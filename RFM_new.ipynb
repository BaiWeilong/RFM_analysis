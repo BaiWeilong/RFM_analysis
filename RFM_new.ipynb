{
 "cells": [
  {
   "cell_type": "code",
   "execution_count": 1,
   "id": "86582ac8",
   "metadata": {},
   "outputs": [],
   "source": [
    "import pandas as pd\n",
    "import numpy as np\n",
    "import matplotlib.pyplot as plt\n",
    "import seaborn as sns"
   ]
  },
  {
   "cell_type": "code",
   "execution_count": 2,
   "id": "a8d032fe",
   "metadata": {},
   "outputs": [
    {
     "name": "stdout",
     "output_type": "stream",
     "text": [
      "<class 'pandas.core.frame.DataFrame'>\n",
      "RangeIndex: 13244 entries, 0 to 13243\n",
      "Data columns (total 7 columns):\n",
      " #   Column               Non-Null Count  Dtype         \n",
      "---  ------               --------------  -----         \n",
      " 0   date                 13244 non-null  datetime64[ns]\n",
      " 1   client               13244 non-null  object        \n",
      " 2   transportation_mode  13244 non-null  object        \n",
      " 3   revenue_usd          13244 non-null  float64       \n",
      " 4   cost_usd             13244 non-null  float64       \n",
      " 5   profit_usd           13244 non-null  float64       \n",
      " 6   margin_percent       13244 non-null  float64       \n",
      "dtypes: datetime64[ns](1), float64(4), object(2)\n",
      "memory usage: 724.4+ KB\n"
     ]
    }
   ],
   "source": [
    "# Загружаем базу в формате csv\n",
    "try:\n",
    "    df = pd.read_csv(\"dt.csv\", parse_dates = ['date'])\n",
    "except FileNotFoundError:\n",
    "    print(\"Ошибка: Файл не найден\")\n",
    "    df = None\n",
    "except pd.errors.ParserError:\n",
    "    print(\"Ошибка: Неверный формат CSV-файла\")\n",
    "    df = None\n",
    "\n",
    "if df is not None:\n",
    "    df.info()"
   ]
  },
  {
   "cell_type": "code",
   "execution_count": 3,
   "id": "f2505a58",
   "metadata": {},
   "outputs": [
    {
     "data": {
      "text/html": [
       "<div>\n",
       "<style scoped>\n",
       "    .dataframe tbody tr th:only-of-type {\n",
       "        vertical-align: middle;\n",
       "    }\n",
       "\n",
       "    .dataframe tbody tr th {\n",
       "        vertical-align: top;\n",
       "    }\n",
       "\n",
       "    .dataframe thead th {\n",
       "        text-align: right;\n",
       "    }\n",
       "</style>\n",
       "<table border=\"1\" class=\"dataframe\">\n",
       "  <thead>\n",
       "    <tr style=\"text-align: right;\">\n",
       "      <th></th>\n",
       "      <th>date</th>\n",
       "      <th>client</th>\n",
       "      <th>transportation_mode</th>\n",
       "      <th>revenue_usd</th>\n",
       "      <th>cost_usd</th>\n",
       "      <th>profit_usd</th>\n",
       "      <th>margin_percent</th>\n",
       "    </tr>\n",
       "  </thead>\n",
       "  <tbody>\n",
       "    <tr>\n",
       "      <th>0</th>\n",
       "      <td>2022-01-04 15:37:47</td>\n",
       "      <td>Noble Associates</td>\n",
       "      <td>SEA</td>\n",
       "      <td>2320.36</td>\n",
       "      <td>2188.60</td>\n",
       "      <td>247.05</td>\n",
       "      <td>10.65</td>\n",
       "    </tr>\n",
       "    <tr>\n",
       "      <th>1</th>\n",
       "      <td>2022-01-17 22:42:02</td>\n",
       "      <td>Advanced Systems</td>\n",
       "      <td>SEA</td>\n",
       "      <td>9650.86</td>\n",
       "      <td>8643.69</td>\n",
       "      <td>431.47</td>\n",
       "      <td>4.47</td>\n",
       "    </tr>\n",
       "    <tr>\n",
       "      <th>2</th>\n",
       "      <td>2022-01-19 05:37:59</td>\n",
       "      <td>Alfa Resources</td>\n",
       "      <td>SEA</td>\n",
       "      <td>1026.93</td>\n",
       "      <td>727.15</td>\n",
       "      <td>175.58</td>\n",
       "      <td>17.10</td>\n",
       "    </tr>\n",
       "    <tr>\n",
       "      <th>3</th>\n",
       "      <td>2022-01-16 05:33:26</td>\n",
       "      <td>Eternal Alliance</td>\n",
       "      <td>SEA</td>\n",
       "      <td>6312.09</td>\n",
       "      <td>5698.86</td>\n",
       "      <td>387.15</td>\n",
       "      <td>6.13</td>\n",
       "    </tr>\n",
       "    <tr>\n",
       "      <th>4</th>\n",
       "      <td>2022-01-04 23:42:46</td>\n",
       "      <td>Core Dynamics</td>\n",
       "      <td>SEA</td>\n",
       "      <td>17951.05</td>\n",
       "      <td>16542.72</td>\n",
       "      <td>270.96</td>\n",
       "      <td>1.51</td>\n",
       "    </tr>\n",
       "  </tbody>\n",
       "</table>\n",
       "</div>"
      ],
      "text/plain": [
       "                 date            client transportation_mode  revenue_usd  \\\n",
       "0 2022-01-04 15:37:47  Noble Associates                 SEA      2320.36   \n",
       "1 2022-01-17 22:42:02  Advanced Systems                 SEA      9650.86   \n",
       "2 2022-01-19 05:37:59    Alfa Resources                 SEA      1026.93   \n",
       "3 2022-01-16 05:33:26  Eternal Alliance                 SEA      6312.09   \n",
       "4 2022-01-04 23:42:46     Core Dynamics                 SEA     17951.05   \n",
       "\n",
       "   cost_usd  profit_usd  margin_percent  \n",
       "0   2188.60      247.05           10.65  \n",
       "1   8643.69      431.47            4.47  \n",
       "2    727.15      175.58           17.10  \n",
       "3   5698.86      387.15            6.13  \n",
       "4  16542.72      270.96            1.51  "
      ]
     },
     "execution_count": 3,
     "metadata": {},
     "output_type": "execute_result"
    }
   ],
   "source": [
    "# Cмотрим на структуру таблицы\n",
    "df.head()"
   ]
  },
  {
   "cell_type": "code",
   "execution_count": 4,
   "id": "efbde627",
   "metadata": {},
   "outputs": [],
   "source": [
    "# Для удобства переименовываем колонки\n",
    "df.rename(columns = {\n",
    "    \"date\": \"Month\",\n",
    "    \"client\": \"Customer\",\n",
    "    \"profit_usd\": \"Revenue\"\n",
    "}, inplace = True)"
   ]
  },
  {
   "cell_type": "code",
   "execution_count": 5,
   "id": "57e0dcab",
   "metadata": {},
   "outputs": [],
   "source": [
    "# Приводим дату к формату год-месяц, и находим последнюю дату для дальнейшего расчета\n",
    "df['Month'] = pd.to_datetime(df['Month'], format = '%Y-%m')\n",
    "max_date = df['Month'].max()\n",
    "reference_date = max_date + pd.DateOffset(days = 1)"
   ]
  },
  {
   "cell_type": "code",
   "execution_count": 6,
   "id": "1c62ac3c",
   "metadata": {},
   "outputs": [],
   "source": [
    "# Определяем дату последней покупки, сумму и количество заказов\n",
    "rfm = df.groupby('Customer').agg({\n",
    "    'Month': 'max',        \n",
    "    'Revenue': ['count', 'sum'] \n",
    "})"
   ]
  },
  {
   "cell_type": "code",
   "execution_count": 7,
   "id": "52dfbc7f",
   "metadata": {},
   "outputs": [],
   "source": [
    "# Переименовываем колонки и сбрасываем индексы\n",
    "rfm.columns = ['LastPurchaseDate', 'Frequency', 'Monetary']\n",
    "rfm.reset_index(inplace=True)"
   ]
  },
  {
   "cell_type": "code",
   "execution_count": 8,
   "id": "67160a3b",
   "metadata": {},
   "outputs": [],
   "source": [
    "# Высчитываем количество дней от последнего заказа\n",
    "rfm['Recency'] = (reference_date - rfm['LastPurchaseDate']).dt.days"
   ]
  },
  {
   "cell_type": "code",
   "execution_count": 9,
   "id": "eeb23e15",
   "metadata": {},
   "outputs": [],
   "source": [
    "# Определяем квартилями разделение для метрик RFM\n",
    "r_quartiles = rfm['Recency'].quantile([0.2, 0.4, 0.6, 0.8]).values\n",
    "f_quartiles = rfm['Frequency'].quantile([0.2, 0.4, 0.6, 0.8]).values\n",
    "m_quartiles = rfm['Monetary'].quantile([0.2, 0.4, 0.6, 0.8]).values"
   ]
  },
  {
   "cell_type": "code",
   "execution_count": 10,
   "id": "10596ca3",
   "metadata": {},
   "outputs": [],
   "source": [
    "def score_value(x: float, quartiles: list, is_recency: bool = False) -> int:\n",
    "    \"\"\"\n",
    "    Универсальная функция для расчёта оценок Recency, Frequency и Monetary.\n",
    "\n",
    "    Если `is_recency=True`, более низкие значения x получают более высокий балл (5 - лучше, 1 - хуже).\n",
    "    В остальных случаях более высокие значения получают более высокий балл.\n",
    "\n",
    "    Параметры:\n",
    "        x (float): Значение для оценки.\n",
    "        quartiles (list): Список квартильных порогов.\n",
    "        is_recency (bool): Флаг для инверсии оценки (по умолчанию False).\n",
    "\n",
    "    Возвращает:\n",
    "        int: Оценка от 1 до 5.\n",
    "    \"\"\"\n",
    "    if pd.isna(x):\n",
    "        return np.nan\n",
    "    \n",
    "    for i, threshold in enumerate(quartiles):\n",
    "        if x <= threshold:\n",
    "            return (5 - i) if is_recency else (i + 1)\n",
    "    \n",
    "    return 1 if is_recency else 5"
   ]
  },
  {
   "cell_type": "code",
   "execution_count": 11,
   "id": "8d2c4390",
   "metadata": {},
   "outputs": [],
   "source": [
    "# Применяем фукнцию к DataFrame\n",
    "rfm['R_Score'] = rfm['Recency'].apply(score_value, args=(r_quartiles, True))\n",
    "rfm['F_Score'] = rfm['Frequency'].apply(score_value, args=(f_quartiles, False))\n",
    "rfm['M_Score'] = rfm['Monetary'].apply(score_value, args=(m_quartiles, False))"
   ]
  },
  {
   "cell_type": "code",
   "execution_count": 12,
   "id": "43354aec",
   "metadata": {},
   "outputs": [],
   "source": [
    "# Перевеводим в строчный формат значения, пропуски заменяем на нули\n",
    "rfm['RFM_Score'] = (\n",
    "    rfm['R_Score'].map(str) +\n",
    "    rfm['F_Score'].map(str) +\n",
    "    rfm['M_Score'].map(str)\n",
    ")\n",
    "\n",
    "rfm.fillna(0, inplace = True)"
   ]
  },
  {
   "cell_type": "code",
   "execution_count": 13,
   "id": "aed73c64",
   "metadata": {},
   "outputs": [
    {
     "data": {
      "text/html": [
       "<div>\n",
       "<style scoped>\n",
       "    .dataframe tbody tr th:only-of-type {\n",
       "        vertical-align: middle;\n",
       "    }\n",
       "\n",
       "    .dataframe tbody tr th {\n",
       "        vertical-align: top;\n",
       "    }\n",
       "\n",
       "    .dataframe thead th {\n",
       "        text-align: right;\n",
       "    }\n",
       "</style>\n",
       "<table border=\"1\" class=\"dataframe\">\n",
       "  <thead>\n",
       "    <tr style=\"text-align: right;\">\n",
       "      <th></th>\n",
       "      <th>Customer</th>\n",
       "      <th>LastPurchaseDate</th>\n",
       "      <th>Frequency</th>\n",
       "      <th>Monetary</th>\n",
       "      <th>Recency</th>\n",
       "      <th>R_Score</th>\n",
       "      <th>F_Score</th>\n",
       "      <th>M_Score</th>\n",
       "      <th>RFM_Score</th>\n",
       "    </tr>\n",
       "  </thead>\n",
       "  <tbody>\n",
       "    <tr>\n",
       "      <th>0</th>\n",
       "      <td>Active Alliance</td>\n",
       "      <td>2022-06-28 08:45:04</td>\n",
       "      <td>2</td>\n",
       "      <td>595.26</td>\n",
       "      <td>184</td>\n",
       "      <td>2</td>\n",
       "      <td>2</td>\n",
       "      <td>3</td>\n",
       "      <td>223</td>\n",
       "    </tr>\n",
       "    <tr>\n",
       "      <th>1</th>\n",
       "      <td>Active Associates</td>\n",
       "      <td>2022-12-28 20:59:16</td>\n",
       "      <td>3</td>\n",
       "      <td>887.88</td>\n",
       "      <td>1</td>\n",
       "      <td>5</td>\n",
       "      <td>3</td>\n",
       "      <td>3</td>\n",
       "      <td>533</td>\n",
       "    </tr>\n",
       "    <tr>\n",
       "      <th>2</th>\n",
       "      <td>Active Consulting</td>\n",
       "      <td>2022-12-19 17:32:42</td>\n",
       "      <td>17</td>\n",
       "      <td>2573.98</td>\n",
       "      <td>10</td>\n",
       "      <td>5</td>\n",
       "      <td>5</td>\n",
       "      <td>4</td>\n",
       "      <td>554</td>\n",
       "    </tr>\n",
       "    <tr>\n",
       "      <th>3</th>\n",
       "      <td>Active Dynamics</td>\n",
       "      <td>2022-10-21 02:49:10</td>\n",
       "      <td>9</td>\n",
       "      <td>1367.03</td>\n",
       "      <td>69</td>\n",
       "      <td>3</td>\n",
       "      <td>4</td>\n",
       "      <td>4</td>\n",
       "      <td>344</td>\n",
       "    </tr>\n",
       "    <tr>\n",
       "      <th>4</th>\n",
       "      <td>Active Edge</td>\n",
       "      <td>2022-10-04 16:46:03</td>\n",
       "      <td>10</td>\n",
       "      <td>1543.11</td>\n",
       "      <td>86</td>\n",
       "      <td>3</td>\n",
       "      <td>4</td>\n",
       "      <td>4</td>\n",
       "      <td>344</td>\n",
       "    </tr>\n",
       "    <tr>\n",
       "      <th>...</th>\n",
       "      <td>...</td>\n",
       "      <td>...</td>\n",
       "      <td>...</td>\n",
       "      <td>...</td>\n",
       "      <td>...</td>\n",
       "      <td>...</td>\n",
       "      <td>...</td>\n",
       "      <td>...</td>\n",
       "      <td>...</td>\n",
       "    </tr>\n",
       "    <tr>\n",
       "      <th>589</th>\n",
       "      <td>Visionary Systems</td>\n",
       "      <td>2022-10-28 05:11:41</td>\n",
       "      <td>9</td>\n",
       "      <td>4200.84</td>\n",
       "      <td>62</td>\n",
       "      <td>3</td>\n",
       "      <td>4</td>\n",
       "      <td>5</td>\n",
       "      <td>345</td>\n",
       "    </tr>\n",
       "    <tr>\n",
       "      <th>590</th>\n",
       "      <td>Visionary Tech</td>\n",
       "      <td>2022-01-17 08:48:06</td>\n",
       "      <td>2</td>\n",
       "      <td>1280.22</td>\n",
       "      <td>346</td>\n",
       "      <td>1</td>\n",
       "      <td>2</td>\n",
       "      <td>4</td>\n",
       "      <td>124</td>\n",
       "    </tr>\n",
       "    <tr>\n",
       "      <th>591</th>\n",
       "      <td>Visionary Technologies</td>\n",
       "      <td>2022-05-17 16:01:39</td>\n",
       "      <td>2</td>\n",
       "      <td>2034.46</td>\n",
       "      <td>226</td>\n",
       "      <td>1</td>\n",
       "      <td>2</td>\n",
       "      <td>4</td>\n",
       "      <td>124</td>\n",
       "    </tr>\n",
       "    <tr>\n",
       "      <th>592</th>\n",
       "      <td>Visionary Trust</td>\n",
       "      <td>2022-08-24 21:03:19</td>\n",
       "      <td>1</td>\n",
       "      <td>38.04</td>\n",
       "      <td>127</td>\n",
       "      <td>2</td>\n",
       "      <td>1</td>\n",
       "      <td>1</td>\n",
       "      <td>211</td>\n",
       "    </tr>\n",
       "    <tr>\n",
       "      <th>593</th>\n",
       "      <td>Visionary Ventures</td>\n",
       "      <td>2022-12-05 17:22:38</td>\n",
       "      <td>2</td>\n",
       "      <td>139.78</td>\n",
       "      <td>24</td>\n",
       "      <td>4</td>\n",
       "      <td>2</td>\n",
       "      <td>2</td>\n",
       "      <td>422</td>\n",
       "    </tr>\n",
       "  </tbody>\n",
       "</table>\n",
       "<p>594 rows × 9 columns</p>\n",
       "</div>"
      ],
      "text/plain": [
       "                   Customer    LastPurchaseDate  Frequency  Monetary  Recency  \\\n",
       "0           Active Alliance 2022-06-28 08:45:04          2    595.26      184   \n",
       "1         Active Associates 2022-12-28 20:59:16          3    887.88        1   \n",
       "2         Active Consulting 2022-12-19 17:32:42         17   2573.98       10   \n",
       "3           Active Dynamics 2022-10-21 02:49:10          9   1367.03       69   \n",
       "4               Active Edge 2022-10-04 16:46:03         10   1543.11       86   \n",
       "..                      ...                 ...        ...       ...      ...   \n",
       "589       Visionary Systems 2022-10-28 05:11:41          9   4200.84       62   \n",
       "590          Visionary Tech 2022-01-17 08:48:06          2   1280.22      346   \n",
       "591  Visionary Technologies 2022-05-17 16:01:39          2   2034.46      226   \n",
       "592         Visionary Trust 2022-08-24 21:03:19          1     38.04      127   \n",
       "593      Visionary Ventures 2022-12-05 17:22:38          2    139.78       24   \n",
       "\n",
       "     R_Score  F_Score  M_Score RFM_Score  \n",
       "0          2        2        3       223  \n",
       "1          5        3        3       533  \n",
       "2          5        5        4       554  \n",
       "3          3        4        4       344  \n",
       "4          3        4        4       344  \n",
       "..       ...      ...      ...       ...  \n",
       "589        3        4        5       345  \n",
       "590        1        2        4       124  \n",
       "591        1        2        4       124  \n",
       "592        2        1        1       211  \n",
       "593        4        2        2       422  \n",
       "\n",
       "[594 rows x 9 columns]"
      ]
     },
     "execution_count": 13,
     "metadata": {},
     "output_type": "execute_result"
    }
   ],
   "source": [
    "rfm"
   ]
  },
  {
   "cell_type": "code",
   "execution_count": 14,
   "id": "38f90700",
   "metadata": {},
   "outputs": [
    {
     "data": {
      "image/png": "[encoded data removed]",
      "text/plain": [
       "<Figure size 640x480 with 1 Axes>"
      ]
     },
     "metadata": {},
     "output_type": "display_data"
    }
   ],
   "source": [
    "sns.histplot(rfm['Recency'], bins = 20, kde = True, color = 'blue')\n",
    "plt.title('Распределение Recency')\n",
    "plt.xlabel('Дни с последней покупки')\n",
    "plt.ylabel('Число клиентов')\n",
    "plt.show()"
   ]
  },
  {
   "cell_type": "markdown",
   "id": "c6dd7c48",
   "metadata": {},
   "source": [
    "Большинство клиентов совершили покупку недавно (до 50 дней назад).\n",
    "\n",
    "Длинный \"хвост\" справа говорит о том, что есть клиенты, которые давно не совершали покупки.\n",
    "\n",
    "Это типичное распределение для бизнеса: есть активные клиенты и те, кто со временем перестаёт покупать.\n",
    "\n",
    "Вывод: Стоит реактивировать неактивных клиентов с помощью маркетинговых кампаний (например, рассылки со скидками)."
   ]
  },
  {
   "cell_type": "code",
   "execution_count": 15,
   "id": "bdbe23f9",
   "metadata": {},
   "outputs": [
    {
     "data": {
      "image/png": "[encoded data removed]",
      "text/plain": [
       "<Figure size 640x480 with 1 Axes>"
      ]
     },
     "metadata": {},
     "output_type": "display_data"
    }
   ],
   "source": [
    "sns.histplot(rfm['Frequency'], bins = 20, kde = True, color = 'green')\n",
    "plt.title('Распределение Frequency')\n",
    "plt.xlabel('Частота покупок')\n",
    "plt.ylabel('Число клиентов')\n",
    "plt.show()"
   ]
  },
  {
   "cell_type": "markdown",
   "id": "87b98ec0",
   "metadata": {},
   "source": [
    "Подавляющее большинство клиентов совершает мало покупок (до 50 раз).\n",
    "\n",
    "Есть несколько аномально активных клиентов (покупки в районе 5000 раз).\n",
    "\n",
    "Это говорит о том, что бизнес имеет основную массу клиентов с низкой частотой покупок и немного VIP-клиентов с высокой активностью.\n",
    "\n",
    "Вывод: Стоит создать отдельные предложения для частых покупателей (например, программы лояльности)."
   ]
  },
  {
   "cell_type": "code",
   "execution_count": 16,
   "id": "88ee4c35",
   "metadata": {},
   "outputs": [
    {
     "data": {
      "image/png": "[encoded data removed]",
      "text/plain": [
       "<Figure size 640x480 with 1 Axes>"
      ]
     },
     "metadata": {},
     "output_type": "display_data"
    }
   ],
   "source": [
    "sns.histplot(rfm['Monetary'], bins = 20, kde = True, color = 'red')\n",
    "plt.title('Распределение Monetary')\n",
    "plt.xlabel('Сумма покупок')\n",
    "plt.ylabel('Число клиентов')\n",
    "plt.tight_layout()\n",
    "plt.show()"
   ]
  },
  {
   "cell_type": "markdown",
   "id": "cfdcbb74",
   "metadata": {},
   "source": [
    "Большинство клиентов тратит небольшие суммы (до 50 000).\n",
    "\n",
    "Есть редкие клиенты с очень большими тратами (до 300 000).\n",
    "\n",
    "Распределение сильно асимметрично: основная масса клиентов — это низкие чеки, но есть несколько очень ценных клиентов.\n",
    "\n",
    "Вывод: Стоит удерживать VIP-клиентов, предлагая персонализированные скидки и сервис."
   ]
  },
  {
   "cell_type": "markdown",
   "id": "7953ccc1",
   "metadata": {},
   "source": [
    "Программа действия:\n",
    "\n",
    "\n",
    "✅ Реактивация клиентов, давно не делавших покупок.\n",
    "\n",
    "✅ Программа лояльности для частых покупателей.\n",
    "\n",
    "✅ Фокус на VIP-клиентах для увеличения их LTV."
   ]
  }
 ],
 "metadata": {
  "kernelspec": {
   "display_name": "Python 3 (ipykernel)",
   "language": "python",
   "name": "python3"
  },
  "language_info": {
   "codemirror_mode": {
    "name": "ipython",
    "version": 3
   },
   "file_extension": ".py",
   "mimetype": "text/x-python",
   "name": "python",
   "nbconvert_exporter": "python",
   "pygments_lexer": "ipython3",
   "version": "3.11.5"
  }
 },
 "nbformat": 4,
 "nbformat_minor": 5
}
